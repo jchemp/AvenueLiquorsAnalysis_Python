{
 "cells": [
  {
   "cell_type": "code",
   "execution_count": 1,
   "metadata": {},
   "outputs": [],
   "source": [
    "# Author: Joshua Chemparathy\n",
    "# Purpose: Analysis of cleansed store sales data\n",
    "# Date: January 29, 2019\n",
    "# Last Modified: January 29, 2019\n",
    "\n",
    "import pandas as pd"
   ]
  },
  {
   "cell_type": "code",
   "execution_count": 10,
   "metadata": {},
   "outputs": [
    {
     "name": "stdout",
     "output_type": "stream",
     "text": [
      "trans_id        int64\n",
      "trans_date     object\n",
      "trans_time     object\n",
      "subtotal      float64\n",
      "tax_rate       object\n",
      "tax_amt        object\n",
      "total         float64\n",
      "dtype: object\n",
      "   trans_id trans_date trans_time  subtotal tax_rate tax_amt  total\n",
      "0   3704187   01/01/17    0:00 am    -30.00     9.25    0.00 -30.00\n",
      "1   3704188   01/01/17    0:01 am     13.99     9.25    2.29  16.28\n",
      "2   3704189   01/01/17    0:01 am      9.74     9.25    0.00   9.74\n",
      "3   3704190   01/01/17    0:03 am      9.29     9.25    1.19  10.48\n",
      "4   3704191   01/01/17    0:04 am      0.00     9.25    0.00   0.00\n"
     ]
    }
   ],
   "source": [
    "df_header = pd.read_csv(\"sales_header.csv\")\n",
    "print(df_header.dtypes)\n",
    "\n",
    "print(df_header.head(n=5))"
   ]
  },
  {
   "cell_type": "code",
   "execution_count": 9,
   "metadata": {},
   "outputs": [
    {
     "name": "stdout",
     "output_type": "stream",
     "text": [
      "trans_id           int64\n",
      "trans_date        object\n",
      "trans_time        object\n",
      "sale_id            int64\n",
      "product_desc      object\n",
      "product_code      object\n",
      "product_qty       object\n",
      "product_price     object\n",
      "product_tax_id    object\n",
      "dtype: object\n",
      "   trans_id trans_date trans_time  sale_id             product_desc  \\\n",
      "0   3704187   01/01/17    0:00 am     3672      lotto/ MISC NON TAX   \n",
      "1   3704187   01/01/17    0:00 am     3687                    lotto   \n",
      "2   3704187   01/01/17    0:00 am     3665  lottMISC NON TAX /LOTTO   \n",
      "3   3704187   01/01/17    0:00 am     3665  lottMISC NON TAX /LOTTO   \n",
      "4   3704188   01/01/17    0:01 am     3975         coors light 18 p   \n",
      "\n",
      "   product_code product_qty product_price product_tax_id  \n",
      "0             3         -70          1.00              N  \n",
      "1            20           1         20.00              N  \n",
      "2            10           1         10.00              N  \n",
      "3            10           1         10.00              N  \n",
      "4  071990300173           1         13.99              5  \n"
     ]
    }
   ],
   "source": [
    "#test if pandas can now read these files\n",
    "df_lines = pd.read_csv(\"sales_line.csv\")\n",
    "print(df_lines.dtypes) # possibly need to fix the types\n",
    "\n",
    "print(df_lines.head(n=5))"
   ]
  },
  {
   "cell_type": "code",
   "execution_count": null,
   "metadata": {},
   "outputs": [],
   "source": []
  }
 ],
 "metadata": {
  "kernelspec": {
   "display_name": "Python 3",
   "language": "python",
   "name": "python3"
  },
  "language_info": {
   "codemirror_mode": {
    "name": "ipython",
    "version": 3
   },
   "file_extension": ".py",
   "mimetype": "text/x-python",
   "name": "python",
   "nbconvert_exporter": "python",
   "pygments_lexer": "ipython3",
   "version": "3.7.1"
  }
 },
 "nbformat": 4,
 "nbformat_minor": 2
}
